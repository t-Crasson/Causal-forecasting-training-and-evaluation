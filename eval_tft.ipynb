{
 "cells": [
  {
   "cell_type": "code",
   "execution_count": 1,
   "metadata": {},
   "outputs": [],
   "source": [
    "%load_ext autoreload\n",
    "%autoreload 2\n",
    "import warnings\n",
    "warnings.filterwarnings(\"ignore\")\n",
    "from src.models.baseline import baseline\n",
    "from src.data.mimic_iii.real_dataset import MIMIC3RealDataset,MIMIC3RealDatasetCollection\n",
    "import yaml\n",
    "import pytorch_lightning as pl\n",
    "from src.models.common import *\n",
    "from torch.utils.data import DataLoader\n",
    "import torch\n",
    "import os\n",
    "import matplotlib.pyplot as plt\n",
    "import numpy as np\n",
    "device = \"cuda\""
   ]
  },
  {
   "cell_type": "code",
   "execution_count": 2,
   "metadata": {},
   "outputs": [],
   "source": [
    "with open('/home/thomas/mimic/physionet.org/files/mimiciii/CausalTransformer/config/dataset/mimic3_real.yaml', 'r') as file:\n",
    "        config = yaml.safe_load(file)[\"dataset\"]\n",
    "batch_size=512"
   ]
  },
  {
   "cell_type": "markdown",
   "metadata": {},
   "source": [
    "## Eval"
   ]
  },
  {
   "cell_type": "code",
   "execution_count": 3,
   "metadata": {},
   "outputs": [],
   "source": [
    "def one_shot_pred(model,test_loader):\n",
    "    li_outcome = []\n",
    "    li_tot = []\n",
    "    for idx,batch in enumerate(test_loader):\n",
    "        predicted_outputs = torch.zeros((batch['vitals'].shape[0], 5, 1))\n",
    "        vitals = batch['vitals'].float()\n",
    "        static_features = batch['static_features'].float()\n",
    "        treatments = batch['current_treatments'].float()\n",
    "        position = torch.arange(batch['vitals'].shape[1])\n",
    "        position = position.repeat(batch['vitals'].shape[0],1,1)\n",
    "        position = torch.permute(position,(0,2,1)).to(batch['vitals'].device)\n",
    "        li_insample_y = batch[\"outputs\"].clone().float()\n",
    "        for i in range(batch['future_past_split'].shape[0]):\n",
    "            vitals[i, int(batch['future_past_split'][i]):] = 0\n",
    "            li_insample_y[i,int(batch['future_past_split'][i]):] = 0\n",
    "        static_features = batch['static_features'].float()\n",
    "        treatments = batch['current_treatments'].float()\n",
    "        index = batch[\"future_past_split\"]\n",
    "        temporal = torch.concat([vitals,position,treatments],dim=-1)\n",
    "        # Encapsulating inputs\n",
    "        windows = {}\n",
    "        windows[\"insample_y\"] = li_insample_y.to(model.device)\n",
    "        windows[\"multivariate_exog\"] = temporal.to(model.device)\n",
    "        windows[\"stat_exog\"] = static_features.to(model.device)\n",
    "        with torch.no_grad():\n",
    "            outputs_scaled = model(windows,index.int()).cpu()\n",
    "        for i in range(batch['vitals'].shape[0]):\n",
    "            split = int(batch['future_past_split'][i])\n",
    "            predicted_outputs[i, :, :] = outputs_scaled[i, split :split+model.proj_len, :]\n",
    "        li_outcome.append(predicted_outputs)\n",
    "        li_tot.append(outputs_scaled)\n",
    "    outcome = torch.concat(li_outcome)\n",
    "    outcome_tot = torch.concat(li_tot)\n",
    "    return outcome, outcome_tot\n",
    "def compute_tau_step_error(model,dataloader):\n",
    "    Y_true = torch.zeros((len(dataloader.dataset),model.proj_len,1))\n",
    "    for i,tau in enumerate(dataloader.dataset.data[\"future_past_split\"]):\n",
    "        tau = int(tau)\n",
    "        Y_true[i] = torch.tensor(dataloader.dataset.data[\"outputs\"][i,tau:tau+model.proj_len])\n",
    "    Y_hat = one_shot_pred(model,dataloader)[0]\n",
    "    return Y_hat.numpy(), Y_true.numpy()"
   ]
  },
  {
   "cell_type": "code",
   "execution_count": 4,
   "metadata": {},
   "outputs": [],
   "source": [
    "seeds = [10,101,1001,10010,10110]\n",
    "losses_rmse = np.zeros((len(seeds),5))\n",
    "losses_mae = np.zeros((len(seeds),5))\n",
    "for i in range(len(seeds)):\n",
    "    dataset_collection = MIMIC3RealDatasetCollection(\"data/processed/all_hourly_data.h5\",min_seq_length=30,max_seq_length=60,\n",
    "                                                     seed=seeds[i],max_number=10000,split = {\"val\":0.15,\"test\":0.15}, projection_horizon=5,autoregressive=True,\n",
    "                                                     outcome_list = config[\"outcome_list\"],\n",
    "                                                     vitals = config[\"vital_list\"],\n",
    "                                                     treatment_list = config[\"treatment_list\"],\n",
    "                                                     static_list = config[\"static_list\"]\n",
    "                                                     )\n",
    "    dataset_collection.process_data_multi()\n",
    "    \n",
    "    dataset = dataset_collection.test_f_multi\n",
    "    test_loader = DataLoader(dataset, batch_size=1024,shuffle=False)\n",
    "    file = os.listdir(f\"TFT/baseline_large_multi_{i}/checkpoints\")[0]\n",
    "    path = os.path.join(f\"TFT/baseline_large_multi_{i}/checkpoints\",file)\n",
    "    model = baseline.load_from_checkpoint(path,map_location=device).to(device)\n",
    "    model.eval()\n",
    "    pred,truth = compute_tau_step_error(model,test_loader)\n",
    "    loss = np.sqrt(np.mean((pred-truth)**2,axis=0))*dataset_collection.test_f_multi.scaling_params['output_stds']\n",
    "    losses_rmse[i] = loss.flatten()\n",
    "    loss = np.mean(np.abs(pred-truth),axis=0)*dataset_collection.test_f_multi.scaling_params['output_stds']\n",
    "    losses_mae[i] = loss.flatten()"
   ]
  },
  {
   "cell_type": "code",
   "execution_count": null,
   "metadata": {},
   "outputs": [],
   "source": [
    "np.mean(losses_rmse,axis=0)"
   ]
  },
  {
   "cell_type": "code",
   "execution_count": null,
   "metadata": {},
   "outputs": [],
   "source": [
    "np.std(losses_rmse,axis=0)"
   ]
  },
  {
   "cell_type": "code",
   "execution_count": null,
   "metadata": {},
   "outputs": [],
   "source": [
    "np.mean(losses_mae,axis=0)"
   ]
  },
  {
   "cell_type": "code",
   "execution_count": null,
   "metadata": {},
   "outputs": [],
   "source": [
    "np.std(losses_mae,axis=0)"
   ]
  }
 ],
 "metadata": {
  "kernelspec": {
   "display_name": "mimic",
   "language": "python",
   "name": "python3"
  },
  "language_info": {
   "codemirror_mode": {
    "name": "ipython",
    "version": 3
   },
   "file_extension": ".py",
   "mimetype": "text/x-python",
   "name": "python",
   "nbconvert_exporter": "python",
   "pygments_lexer": "ipython3",
   "version": "3.9.19"
  }
 },
 "nbformat": 4,
 "nbformat_minor": 2
}
